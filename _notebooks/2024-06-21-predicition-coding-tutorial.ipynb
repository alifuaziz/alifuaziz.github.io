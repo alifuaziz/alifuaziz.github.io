{
 "cells": [
  {
   "cell_type": "markdown",
   "metadata": {},
   "source": [
    "---\n",
    "title: How to build a predictive coding model from scratch\n",
    "categories:\n",
    "  - tutorials\n",
    "tags:\n",
    "  - Machine Learning\n",
    "  - Neuroscience\n",
    "  - Predictive Coding\n",
    "---\n",
    "\n",
    "# Predictive Coding from Scratch\n",
    "\n",
    "This post is a tutorial on how to build a predictive coding model from scratch. This is something I had to do for my MSc Hillarty Term project. \n",
    "\n",
    "The code will all be writen in python and will be using just the numpy library. \n",
    "\n",
    "Lots of the ideas about predictive coding are written in a very abstract way which made it hard for me to to follow what the differential equations that update the parmeters of the model are actually doing. As such, I thought i would write a tutorial on how the very basics of predictive coding. \n",
    "\n",
    "## What is Predictive Coding?\n",
    "\n",
    "\n",
    "\n",
    "## A classification task\n",
    "- How does classification work?\n",
    "- Credit assignment problem\n",
    "\n",
    "\n",
    "\n",
    "## What are the steps of predictive coding?\n",
    "\n",
    "1. Inference (dx)\n",
    "2. Learning (dw)\n",
    "\n",
    "3. Predicition \n",
    "This is the simpliest part of the model.\n",
    "### Recommded Reading for understanding the ideas\n",
    "- Rafal's [Tutorial](https://www.sciencedirect.com/science/article/pii/S0022249615000759) on Predictive Coding\n",
    "- Yuhang's [Paper](https://www.nature.com/articles/s41593-023-01514-1) on Predictive Coding \n",
    "\n"
   ]
  }
 ],
 "metadata": {
  "kernelspec": {
   "display_name": "Python 3",
   "language": "python",
   "name": "python3"
  },
  "language_info": {
   "name": "python",
   "version": "3.12.3"
  }
 },
 "nbformat": 4,
 "nbformat_minor": 2
}
